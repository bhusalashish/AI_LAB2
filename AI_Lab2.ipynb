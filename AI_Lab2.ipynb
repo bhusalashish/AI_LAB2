{
 "cells": [
  {
   "cell_type": "markdown",
   "id": "916e8cb4-c036-4750-a831-98ce8079f39a",
   "metadata": {
    "jp-MarkdownHeadingCollapsed": true,
    "tags": []
   },
   "source": [
    "# Install Required Libraries"
   ]
  },
  {
   "cell_type": "code",
   "execution_count": 1,
   "id": "0a225361-1c5c-4df6-ab5d-a1b212d34eb9",
   "metadata": {
    "tags": []
   },
   "outputs": [
    {
     "name": "stdout",
     "output_type": "stream",
     "text": [
      "Requirement already satisfied: google-cloud-storage in /opt/conda/lib/python3.10/site-packages (2.19.0)\n",
      "Collecting google-cloud-storage\n",
      "  Downloading google_cloud_storage-3.1.0-py2.py3-none-any.whl.metadata (12 kB)\n",
      "Requirement already satisfied: google-auth<3.0dev,>=2.26.1 in /opt/conda/lib/python3.10/site-packages (from google-cloud-storage) (2.38.0)\n",
      "Requirement already satisfied: google-api-core<3.0.0dev,>=2.15.0 in /opt/conda/lib/python3.10/site-packages (from google-cloud-storage) (2.24.2)\n",
      "Requirement already satisfied: google-cloud-core<3.0dev,>=2.4.2 in /opt/conda/lib/python3.10/site-packages (from google-cloud-storage) (2.4.3)\n",
      "Requirement already satisfied: google-resumable-media>=2.7.2 in /opt/conda/lib/python3.10/site-packages (from google-cloud-storage) (2.7.2)\n",
      "Requirement already satisfied: requests<3.0.0dev,>=2.18.0 in /opt/conda/lib/python3.10/site-packages (from google-cloud-storage) (2.32.3)\n",
      "Requirement already satisfied: google-crc32c<2.0dev,>=1.0 in /opt/conda/lib/python3.10/site-packages (from google-cloud-storage) (1.7.1)\n",
      "Requirement already satisfied: googleapis-common-protos<2.0.0,>=1.56.2 in /opt/conda/lib/python3.10/site-packages (from google-api-core<3.0.0dev,>=2.15.0->google-cloud-storage) (1.69.2)\n",
      "Requirement already satisfied: protobuf!=3.20.0,!=3.20.1,!=4.21.0,!=4.21.1,!=4.21.2,!=4.21.3,!=4.21.4,!=4.21.5,<7.0.0,>=3.19.5 in /opt/conda/lib/python3.10/site-packages (from google-api-core<3.0.0dev,>=2.15.0->google-cloud-storage) (3.20.3)\n",
      "Requirement already satisfied: proto-plus<2.0.0,>=1.22.3 in /opt/conda/lib/python3.10/site-packages (from google-api-core<3.0.0dev,>=2.15.0->google-cloud-storage) (1.26.1)\n",
      "Requirement already satisfied: cachetools<6.0,>=2.0.0 in /opt/conda/lib/python3.10/site-packages (from google-auth<3.0dev,>=2.26.1->google-cloud-storage) (5.5.2)\n",
      "Requirement already satisfied: pyasn1-modules>=0.2.1 in /opt/conda/lib/python3.10/site-packages (from google-auth<3.0dev,>=2.26.1->google-cloud-storage) (0.4.2)\n",
      "Requirement already satisfied: rsa<5,>=3.1.4 in /opt/conda/lib/python3.10/site-packages (from google-auth<3.0dev,>=2.26.1->google-cloud-storage) (4.9)\n",
      "Requirement already satisfied: charset_normalizer<4,>=2 in /opt/conda/lib/python3.10/site-packages (from requests<3.0.0dev,>=2.18.0->google-cloud-storage) (3.4.1)\n",
      "Requirement already satisfied: idna<4,>=2.5 in /opt/conda/lib/python3.10/site-packages (from requests<3.0.0dev,>=2.18.0->google-cloud-storage) (3.10)\n",
      "Requirement already satisfied: urllib3<3,>=1.21.1 in /opt/conda/lib/python3.10/site-packages (from requests<3.0.0dev,>=2.18.0->google-cloud-storage) (1.26.20)\n",
      "Requirement already satisfied: certifi>=2017.4.17 in /opt/conda/lib/python3.10/site-packages (from requests<3.0.0dev,>=2.18.0->google-cloud-storage) (2025.1.31)\n",
      "Requirement already satisfied: pyasn1<0.7.0,>=0.6.1 in /opt/conda/lib/python3.10/site-packages (from pyasn1-modules>=0.2.1->google-auth<3.0dev,>=2.26.1->google-cloud-storage) (0.6.1)\n",
      "Downloading google_cloud_storage-3.1.0-py2.py3-none-any.whl (174 kB)\n",
      "Installing collected packages: google-cloud-storage\n",
      "  Attempting uninstall: google-cloud-storage\n",
      "    Found existing installation: google-cloud-storage 2.19.0\n",
      "    Uninstalling google-cloud-storage-2.19.0:\n",
      "      Successfully uninstalled google-cloud-storage-2.19.0\n",
      "\u001b[31mERROR: pip's dependency resolver does not currently take into account all the packages that are installed. This behaviour is the source of the following dependency conflicts.\n",
      "google-cloud-aiplatform 1.86.0 requires google-cloud-storage<3.0.0,>=1.32.0, but you have google-cloud-storage 3.1.0 which is incompatible.\n",
      "kfp 2.5.0 requires google-cloud-storage<3,>=2.2.1, but you have google-cloud-storage 3.1.0 which is incompatible.\u001b[0m\u001b[31m\n",
      "\u001b[0mSuccessfully installed google-cloud-storage-3.1.0\n",
      "Requirement already satisfied: pandas in /opt/conda/lib/python3.10/site-packages (2.2.3)\n",
      "Requirement already satisfied: numpy>=1.22.4 in /opt/conda/lib/python3.10/site-packages (from pandas) (2.1.3)\n",
      "Requirement already satisfied: python-dateutil>=2.8.2 in /opt/conda/lib/python3.10/site-packages (from pandas) (2.9.0.post0)\n",
      "Requirement already satisfied: pytz>=2020.1 in /opt/conda/lib/python3.10/site-packages (from pandas) (2025.2)\n",
      "Requirement already satisfied: tzdata>=2022.7 in /opt/conda/lib/python3.10/site-packages (from pandas) (2025.2)\n",
      "Requirement already satisfied: six>=1.5 in /opt/conda/lib/python3.10/site-packages (from python-dateutil>=2.8.2->pandas) (1.17.0)\n"
     ]
    }
   ],
   "source": [
    "!pip install --upgrade google-cloud-storage\n",
    "!pip install pandas"
   ]
  },
  {
   "cell_type": "markdown",
   "id": "2ce227a9-57fb-428a-901e-348b9164f215",
   "metadata": {
    "jp-MarkdownHeadingCollapsed": true,
    "tags": []
   },
   "source": [
    "# Import Libraries"
   ]
  },
  {
   "cell_type": "code",
   "execution_count": 2,
   "id": "77c90aa2-2bb5-479a-ad9e-9e2be0d49b0c",
   "metadata": {
    "tags": []
   },
   "outputs": [],
   "source": [
    "import pandas as pd\n",
    "from google.cloud import storage\n",
    "from io import StringIO"
   ]
  },
  {
   "cell_type": "markdown",
   "id": "f2d0bc8c-afa8-4d02-a47e-86a2b66bc808",
   "metadata": {
    "jp-MarkdownHeadingCollapsed": true,
    "tags": []
   },
   "source": [
    "# Set Up GCS Access"
   ]
  },
  {
   "cell_type": "code",
   "execution_count": 11,
   "id": "d9064e8c-204f-4bf6-b263-f8dad4981c81",
   "metadata": {
    "tags": []
   },
   "outputs": [
    {
     "data": {
      "text/html": [
       "<div>\n",
       "<style scoped>\n",
       "    .dataframe tbody tr th:only-of-type {\n",
       "        vertical-align: middle;\n",
       "    }\n",
       "\n",
       "    .dataframe tbody tr th {\n",
       "        vertical-align: top;\n",
       "    }\n",
       "\n",
       "    .dataframe thead th {\n",
       "        text-align: right;\n",
       "    }\n",
       "</style>\n",
       "<table border=\"1\" class=\"dataframe\">\n",
       "  <thead>\n",
       "    <tr style=\"text-align: right;\">\n",
       "      <th></th>\n",
       "      <th>Index</th>\n",
       "      <th>Customer Id</th>\n",
       "      <th>First Name</th>\n",
       "      <th>Last Name</th>\n",
       "      <th>Company</th>\n",
       "      <th>City</th>\n",
       "      <th>Country</th>\n",
       "      <th>Phone 1</th>\n",
       "      <th>Phone 2</th>\n",
       "      <th>Email</th>\n",
       "      <th>Subscription Date</th>\n",
       "      <th>Website</th>\n",
       "      <th>Age</th>\n",
       "      <th>Annual Income (k$)</th>\n",
       "      <th>Spending Score (1-100)</th>\n",
       "    </tr>\n",
       "  </thead>\n",
       "  <tbody>\n",
       "    <tr>\n",
       "      <th>0</th>\n",
       "      <td>1</td>\n",
       "      <td>EB54EF1154C3A78</td>\n",
       "      <td>Heather</td>\n",
       "      <td>Callahan</td>\n",
       "      <td>Mosley-David</td>\n",
       "      <td>Lake Jeffborough</td>\n",
       "      <td>Norway</td>\n",
       "      <td>043-797-5229</td>\n",
       "      <td>915.112.1727</td>\n",
       "      <td>urangel@espinoza-francis.net</td>\n",
       "      <td>2020-08-26</td>\n",
       "      <td>http://www.escobar.org/</td>\n",
       "      <td>19</td>\n",
       "      <td>15</td>\n",
       "      <td>39</td>\n",
       "    </tr>\n",
       "    <tr>\n",
       "      <th>1</th>\n",
       "      <td>2</td>\n",
       "      <td>10dAcafEBbA5FcA</td>\n",
       "      <td>Kristina</td>\n",
       "      <td>Ferrell</td>\n",
       "      <td>Horn, Shepard and Watson</td>\n",
       "      <td>Aaronville</td>\n",
       "      <td>Andorra</td>\n",
       "      <td>932-062-1802</td>\n",
       "      <td>(209)172-7124x3651</td>\n",
       "      <td>xreese@hall-donovan.com</td>\n",
       "      <td>2020-04-27</td>\n",
       "      <td>https://tyler-pugh.info/</td>\n",
       "      <td>21</td>\n",
       "      <td>15</td>\n",
       "      <td>81</td>\n",
       "    </tr>\n",
       "    <tr>\n",
       "      <th>2</th>\n",
       "      <td>3</td>\n",
       "      <td>67DAB15Ebe4BE4a</td>\n",
       "      <td>Briana</td>\n",
       "      <td>Andersen</td>\n",
       "      <td>Irwin-Oneal</td>\n",
       "      <td>East Jordan</td>\n",
       "      <td>Nepal</td>\n",
       "      <td>8352752061</td>\n",
       "      <td>(567)135-1918</td>\n",
       "      <td>haleybraun@blevins-sexton.com</td>\n",
       "      <td>2022-03-22</td>\n",
       "      <td>https://www.mack-bell.net/</td>\n",
       "      <td>20</td>\n",
       "      <td>16</td>\n",
       "      <td>6</td>\n",
       "    </tr>\n",
       "    <tr>\n",
       "      <th>3</th>\n",
       "      <td>4</td>\n",
       "      <td>6d350C5E5eDB4EE</td>\n",
       "      <td>Patty</td>\n",
       "      <td>Ponce</td>\n",
       "      <td>Richardson Group</td>\n",
       "      <td>East Kristintown</td>\n",
       "      <td>Northern Mariana Islands</td>\n",
       "      <td>302.398.3833</td>\n",
       "      <td>196-189-7767x770</td>\n",
       "      <td>hohailey@anthony.com</td>\n",
       "      <td>2020-07-02</td>\n",
       "      <td>https://delacruz-freeman.org/</td>\n",
       "      <td>23</td>\n",
       "      <td>16</td>\n",
       "      <td>77</td>\n",
       "    </tr>\n",
       "    <tr>\n",
       "      <th>4</th>\n",
       "      <td>5</td>\n",
       "      <td>5820deAdCF23EFe</td>\n",
       "      <td>Kathleen</td>\n",
       "      <td>Mccormick</td>\n",
       "      <td>Carson-Burch</td>\n",
       "      <td>Andresmouth</td>\n",
       "      <td>Macao</td>\n",
       "      <td>001-184-153-9683x1497</td>\n",
       "      <td>552.051.2979x342</td>\n",
       "      <td>alvaradojesse@rangel-shields.com</td>\n",
       "      <td>2021-01-17</td>\n",
       "      <td>https://welch.info/</td>\n",
       "      <td>31</td>\n",
       "      <td>17</td>\n",
       "      <td>40</td>\n",
       "    </tr>\n",
       "  </tbody>\n",
       "</table>\n",
       "</div>"
      ],
      "text/plain": [
       "   Index      Customer Id First Name  Last Name                   Company  \\\n",
       "0      1  EB54EF1154C3A78    Heather   Callahan              Mosley-David   \n",
       "1      2  10dAcafEBbA5FcA   Kristina    Ferrell  Horn, Shepard and Watson   \n",
       "2      3  67DAB15Ebe4BE4a     Briana   Andersen               Irwin-Oneal   \n",
       "3      4  6d350C5E5eDB4EE      Patty      Ponce          Richardson Group   \n",
       "4      5  5820deAdCF23EFe   Kathleen  Mccormick              Carson-Burch   \n",
       "\n",
       "               City                   Country                Phone 1  \\\n",
       "0  Lake Jeffborough                    Norway           043-797-5229   \n",
       "1        Aaronville                   Andorra           932-062-1802   \n",
       "2       East Jordan                     Nepal             8352752061   \n",
       "3  East Kristintown  Northern Mariana Islands           302.398.3833   \n",
       "4       Andresmouth                     Macao  001-184-153-9683x1497   \n",
       "\n",
       "              Phone 2                             Email Subscription Date  \\\n",
       "0        915.112.1727      urangel@espinoza-francis.net        2020-08-26   \n",
       "1  (209)172-7124x3651           xreese@hall-donovan.com        2020-04-27   \n",
       "2       (567)135-1918     haleybraun@blevins-sexton.com        2022-03-22   \n",
       "3    196-189-7767x770              hohailey@anthony.com        2020-07-02   \n",
       "4    552.051.2979x342  alvaradojesse@rangel-shields.com        2021-01-17   \n",
       "\n",
       "                         Website  Age  Annual Income (k$)  \\\n",
       "0        http://www.escobar.org/   19                  15   \n",
       "1       https://tyler-pugh.info/   21                  15   \n",
       "2     https://www.mack-bell.net/   20                  16   \n",
       "3  https://delacruz-freeman.org/   23                  16   \n",
       "4            https://welch.info/   31                  17   \n",
       "\n",
       "   Spending Score (1-100)  \n",
       "0                      39  \n",
       "1                      81  \n",
       "2                       6  \n",
       "3                      77  \n",
       "4                      40  "
      ]
     },
     "execution_count": 11,
     "metadata": {},
     "output_type": "execute_result"
    }
   ],
   "source": [
    "BUCKET_NAME = '018320627-bucket'\n",
    "FILE_NAME = 'Customers.csv'\n",
    "\n",
    "client = storage.Client()\n",
    "bucket = client.bucket(BUCKET_NAME)\n",
    "blob = bucket.blob(FILE_NAME)\n",
    "\n",
    "# Read content as string\n",
    "data = blob.download_as_text()\n",
    "df = pd.read_csv(StringIO(data), sep=';')\n",
    "df.head()\n",
    "\n",
    "# print(data)"
   ]
  },
  {
   "cell_type": "markdown",
   "id": "d24b2016-32d3-435c-a049-6b126759170a",
   "metadata": {
    "tags": []
   },
   "source": [
    "# Do Some Basic Analysis"
   ]
  },
  {
   "cell_type": "code",
   "execution_count": 18,
   "id": "5a6a7df2-23d8-430c-ab88-bdd5908182c1",
   "metadata": {
    "tags": []
   },
   "outputs": [
    {
     "name": "stdout",
     "output_type": "stream",
     "text": [
      "<class 'pandas.core.frame.DataFrame'>\n",
      "RangeIndex: 10000 entries, 0 to 9999\n",
      "Data columns (total 15 columns):\n",
      " #   Column                  Non-Null Count  Dtype \n",
      "---  ------                  --------------  ----- \n",
      " 0   Index                   10000 non-null  int64 \n",
      " 1   Customer Id             10000 non-null  object\n",
      " 2   First Name              10000 non-null  object\n",
      " 3   Last Name               10000 non-null  object\n",
      " 4   Company                 10000 non-null  object\n",
      " 5   City                    10000 non-null  object\n",
      " 6   Country                 10000 non-null  object\n",
      " 7   Phone 1                 10000 non-null  object\n",
      " 8   Phone 2                 10000 non-null  object\n",
      " 9   Email                   10000 non-null  object\n",
      " 10  Subscription Date       10000 non-null  object\n",
      " 11  Website                 10000 non-null  object\n",
      " 12  Age                     10000 non-null  int64 \n",
      " 13  Annual Income (k$)      10000 non-null  int64 \n",
      " 14  Spending Score (1-100)  10000 non-null  int64 \n",
      "dtypes: int64(4), object(11)\n",
      "memory usage: 1.1+ MB\n",
      "Average income: 60.56\n"
     ]
    }
   ],
   "source": [
    "# Basic info\n",
    "df.info()\n",
    "\n",
    "# Summary statistics\n",
    "df.describe()\n",
    "\n",
    "# Distribution of genders (if exists)\n",
    "if 'Gender' in df.columns:\n",
    "    print(df['Gender'].value_counts())\n",
    "\n",
    "# Average income (if column exists)\n",
    "if 'Annual Income (k$)' in df.columns:\n",
    "    print(\"Average income:\", df['Annual Income (k$)'].mean())"
   ]
  },
  {
   "cell_type": "markdown",
   "id": "97f5b3b5-8b43-45f3-bfc3-0b57fabfbfdf",
   "metadata": {
    "tags": []
   },
   "source": [
    "# Answers to questions"
   ]
  },
  {
   "cell_type": "code",
   "execution_count": 21,
   "id": "de482793-2f67-4a67-a3a5-ec227c2f8aa4",
   "metadata": {
    "tags": []
   },
   "outputs": [
    {
     "name": "stdout",
     "output_type": "stream",
     "text": [
      "Average income: 60.56\n",
      "Average age: 38.85\n"
     ]
    }
   ],
   "source": [
    "print(\"Average income:\", df['Annual Income (k$)'].mean())\n",
    "print(\"Average age:\", df['Age'].mean())"
   ]
  },
  {
   "cell_type": "code",
   "execution_count": 24,
   "id": "b090071c-fb45-4f28-aa46-12c70445b66a",
   "metadata": {
    "tags": []
   },
   "outputs": [
    {
     "name": "stdout",
     "output_type": "stream",
     "text": [
      "Index(['Index', 'Customer Id', 'First Name', 'Last Name', 'Company', 'City',\n",
      "       'Country', 'Phone 1', 'Phone 2', 'Email', 'Subscription Date',\n",
      "       'Website', 'Age', 'Annual Income (k$)', 'Spending Score (1-100)'],\n",
      "      dtype='object')\n",
      "'Gender' column does not exists\n"
     ]
    }
   ],
   "source": [
    "print(df.columns)\n",
    "if not \"Gender\" in df.columns:\n",
    "    print(\"'Gender' column does not exists\") "
   ]
  },
  {
   "cell_type": "code",
   "execution_count": 28,
   "id": "8bfd4669-a8ff-4f6a-9179-6924dee3d9c3",
   "metadata": {
    "tags": []
   },
   "outputs": [
    {
     "name": "stdout",
     "output_type": "stream",
     "text": [
      "Index                     0\n",
      "Customer Id               0\n",
      "First Name                0\n",
      "Last Name                 0\n",
      "Company                   0\n",
      "City                      0\n",
      "Country                   0\n",
      "Phone 1                   0\n",
      "Phone 2                   0\n",
      "Email                     0\n",
      "Subscription Date         0\n",
      "Website                   0\n",
      "Age                       0\n",
      "Annual Income (k$)        0\n",
      "Spending Score (1-100)    0\n",
      "dtype: int64\n",
      "Index\n",
      "0\n"
     ]
    }
   ],
   "source": [
    "# Count of missing values per column\n",
    "missing_values = df.isnull().sum()\n",
    "\n",
    "# Column with the most missing values\n",
    "column_with_most_missing = missing_values.idxmax()\n",
    "max_missing_count = missing_values.max()\n",
    "\n",
    "print(missing_values)\n",
    "print(column_with_most_missing)\n",
    "print(max_missing_count)"
   ]
  },
  {
   "cell_type": "code",
   "execution_count": null,
   "id": "ab48bbe5-dae4-4b95-9353-a7f5cbe99bdd",
   "metadata": {},
   "outputs": [],
   "source": []
  }
 ],
 "metadata": {
  "environment": {
   "kernel": "conda-base-py",
   "name": "workbench-notebooks.m129",
   "type": "gcloud",
   "uri": "us-docker.pkg.dev/deeplearning-platform-release/gcr.io/workbench-notebooks:m129"
  },
  "kernelspec": {
   "display_name": "Python 3 (ipykernel) (Local)",
   "language": "python",
   "name": "conda-base-py"
  },
  "language_info": {
   "codemirror_mode": {
    "name": "ipython",
    "version": 3
   },
   "file_extension": ".py",
   "mimetype": "text/x-python",
   "name": "python",
   "nbconvert_exporter": "python",
   "pygments_lexer": "ipython3",
   "version": "3.10.16"
  }
 },
 "nbformat": 4,
 "nbformat_minor": 5
}
